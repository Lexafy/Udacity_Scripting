{
 "cells": [
  {
   "cell_type": "code",
   "execution_count": 1,
   "metadata": {},
   "outputs": [
    {
     "name": "stdout",
     "output_type": "stream",
     "text": [
      "Hello there, Akinbode!\n"
     ]
    }
   ],
   "source": [
    "# This prompts teh user to enter a name and then used in a greeting\n",
    "name = input(\"Enter your name: \")\n",
    "print(\"Hello there, {}!\".format(name.title()))"
   ]
  },
  {
   "cell_type": "code",
   "execution_count": 9,
   "metadata": {},
   "outputs": [
    {
     "name": "stdout",
     "output_type": "stream",
     "text": [
      "57.0\n"
     ]
    }
   ],
   "source": [
    "Number = float(input(\"Enter a number: \"))\n",
    "Number += 21\n",
    "print(Number)"
   ]
  },
  {
   "cell_type": "code",
   "execution_count": 5,
   "metadata": {},
   "outputs": [
    {
     "name": "stdout",
     "output_type": "stream",
     "text": [
      "hello hello hello hello \n"
     ]
    }
   ],
   "source": [
    "# This repeats the output you want to print by the number you put in\n",
    "\n",
    "num = int(input(\"Enter an integer\"))\n",
    "print(\"hello \" * num)"
   ]
  },
  {
   "cell_type": "code",
   "execution_count": 6,
   "metadata": {},
   "outputs": [
    {
     "name": "stdout",
     "output_type": "stream",
     "text": [
      "2\n"
     ]
    }
   ],
   "source": [
    "result = eval(input(\"Enter an expression: \"))\n",
    "print(result)"
   ]
  },
  {
   "cell_type": "code",
   "execution_count": 10,
   "metadata": {},
   "outputs": [
    {
     "name": "stdout",
     "output_type": "stream",
     "text": [
      "Hi Oluseyi,\n",
      "\n",
      "This is a reminder that you have 34 assignments left to submit before you can graduate. Your current grade is 56 and can increase to 124 if you submit all assignments before the due date.\n",
      "\n",
      "\n"
     ]
    }
   ],
   "source": [
    "# Question: Imagine you're a teacher who needs to send a message to each of your \n",
    "# students reminding them of their missing assignments and grade in the class. \n",
    "# You have each of their names, number of missing assignments, and grades on a \n",
    "# spreadsheet and just have to insert them into placeholders in this message you \n",
    "# came up with:\n",
    "\n",
    "\n",
    "names = input(\"Enter names separated by commas: \").title().split(\",\")\n",
    "assignments =  input(\"ENter assignment counts separated by commas: \").split(\",\")\n",
    "grades =  input(\"Enter grades separated by commas: \").split(\",\")\n",
    "\n",
    "#\n",
    "message = \"Hi {},\\n\\nThis is a reminder that you have {} assignments left to \\\n",
    "submit before you can graduate. Your current grade is {} and can increase \\\n",
    "to {} if you submit all assignments before the due date.\\n\\n\"\n",
    "\n",
    "for name, assignment, grade in zip(names, assignments, grades):\n",
    "    print(message.format(name, assignment, grade, int(grade) + int(assignment)*2))\n"
   ]
  },
  {
   "cell_type": "code",
   "execution_count": 11,
   "metadata": {},
   "outputs": [
    {
     "name": "stdout",
     "output_type": "stream",
     "text": [
      "That's not a valid number\n"
     ]
    }
   ],
   "source": [
    "# Working with try statements\n",
    "# try, except, else, finally\n",
    "\n",
    "try:\n",
    "    x = int(input(\"Enter an integer\"))\n",
    "except:\n",
    "    print('That\\'s not a valid number')"
   ]
  },
  {
   "cell_type": "code",
   "execution_count": 12,
   "metadata": {},
   "outputs": [
    {
     "ename": "SyntaxError",
     "evalue": "expected 'except' or 'finally' block (314282304.py, line 3)",
     "output_type": "error",
     "traceback": [
      "\u001b[0;36m  Cell \u001b[0;32mIn[12], line 3\u001b[0;36m\u001b[0m\n\u001b[0;31m    print('That\\'s not a valid number')\u001b[0m\n\u001b[0m    ^\u001b[0m\n\u001b[0;31mSyntaxError\u001b[0m\u001b[0;31m:\u001b[0m expected 'except' or 'finally' block\n"
     ]
    }
   ],
   "source": [
    "# This prints a SyntaxError\n",
    "# Because it expected the to run either the except or finally block or both \n",
    "# after firstly running the try block\n",
    "\n",
    "try:\n",
    "    x = int(input(\"Enter an integer\"))\n",
    "print('That\\'s not a valid number')"
   ]
  },
  {
   "cell_type": "code",
   "execution_count": null,
   "metadata": {},
   "outputs": [],
   "source": []
  }
 ],
 "metadata": {
  "kernelspec": {
   "display_name": "Python 3",
   "language": "python",
   "name": "python3"
  },
  "language_info": {
   "codemirror_mode": {
    "name": "ipython",
    "version": 3
   },
   "file_extension": ".py",
   "mimetype": "text/x-python",
   "name": "python",
   "nbconvert_exporter": "python",
   "pygments_lexer": "ipython3",
   "version": "3.11.1"
  },
  "orig_nbformat": 4,
  "vscode": {
   "interpreter": {
    "hash": "aee8b7b246df8f9039afb4144a1f6fd8d2ca17a180786b69acc140d282b71a49"
   }
  }
 },
 "nbformat": 4,
 "nbformat_minor": 2
}

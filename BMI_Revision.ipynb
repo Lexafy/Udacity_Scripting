{
 "cells": [
  {
   "cell_type": "code",
   "execution_count": 1,
   "metadata": {},
   "outputs": [
    {
     "name": "stdout",
     "output_type": "stream",
     "text": [
      "Hello again\n"
     ]
    }
   ],
   "source": [
    "print(\"Hello again\")"
   ]
  },
  {
   "cell_type": "code",
   "execution_count": 2,
   "metadata": {},
   "outputs": [
    {
     "name": "stdout",
     "output_type": "stream",
     "text": [
      "Akinbode is a Naija boy\n"
     ]
    }
   ],
   "source": [
    "Name = 'Akinbode'\n",
    "country = 'Naija'\n",
    "print(Name + ' is a ' + country +' boy')"
   ]
  },
  {
   "cell_type": "code",
   "execution_count": 3,
   "metadata": {},
   "outputs": [],
   "source": [
    "height = 1.34\n",
    "weight = 50\n",
    "overweight = True\n",
    "result = 'You are overweight'"
   ]
  },
  {
   "cell_type": "code",
   "execution_count": 5,
   "metadata": {},
   "outputs": [
    {
     "data": {
      "text/plain": [
       "20"
      ]
     },
     "execution_count": 5,
     "metadata": {},
     "output_type": "execute_result"
    }
   ],
   "source": [
    "Twenty = 15 + 5\n",
    "Thirty = 15 + 15\n",
    "Twenty"
   ]
  },
  {
   "cell_type": "code",
   "execution_count": 8,
   "metadata": {},
   "outputs": [
    {
     "data": {
      "text/plain": [
       "5.0"
      ]
     },
     "execution_count": 8,
     "metadata": {},
     "output_type": "execute_result"
    }
   ],
   "source": [
    "Wetin = 60/12\n",
    "Wetin"
   ]
  },
  {
   "cell_type": "code",
   "execution_count": 9,
   "metadata": {},
   "outputs": [
    {
     "name": "stdout",
     "output_type": "stream",
     "text": [
      "5.0 20\n"
     ]
    }
   ],
   "source": [
    "print(Wetin, Twenty)"
   ]
  },
  {
   "cell_type": "code",
   "execution_count": 14,
   "metadata": {},
   "outputs": [
    {
     "data": {
      "text/plain": [
       "2.0"
      ]
     },
     "execution_count": 14,
     "metadata": {},
     "output_type": "execute_result"
    }
   ],
   "source": [
    "# These are assignment operators\n",
    "x = 2\n",
    "x += 5\n",
    "x -= 5\n",
    "x /= 2\n",
    "x *= 2\n",
    "x"
   ]
  },
  {
   "cell_type": "code",
   "execution_count": 16,
   "metadata": {},
   "outputs": [
    {
     "data": {
      "text/plain": [
       "datetime.date(2022, 12, 20)"
      ]
     },
     "execution_count": 16,
     "metadata": {},
     "output_type": "execute_result"
    }
   ],
   "source": [
    "from datetime import date\n",
    "date.today()"
   ]
  },
  {
   "cell_type": "code",
   "execution_count": 20,
   "metadata": {},
   "outputs": [
    {
     "name": "stdout",
     "output_type": "stream",
     "text": [
      "Today's date is 2022-12-20\n"
     ]
    }
   ],
   "source": [
    "print(\"Today's date is \" + str(date.today()))"
   ]
  },
  {
   "cell_type": "code",
   "execution_count": 28,
   "metadata": {},
   "outputs": [
    {
     "name": "stdout",
     "output_type": "stream",
     "text": [
      "Buhari is from Nigeria\n"
     ]
    }
   ],
   "source": [
    "Name = input(\"Enter your name\")\n",
    "country = input(\"Type your country\")\n",
    "\n",
    "print(Name + \" is from \" + country)\n"
   ]
  },
  {
   "cell_type": "code",
   "execution_count": 34,
   "metadata": {},
   "outputs": [
    {
     "name": "stdout",
     "output_type": "stream",
     "text": [
      "This is a BMI calculator\n",
      "28.408163265306122\n"
     ]
    }
   ],
   "source": [
    "# Writing codes for a simple BMI calculator\n",
    "print('This is a BMI calculator')\n",
    "weight = float(input('Enter your weight in Kg'))\n",
    "height = float(input('Enter your hight in meters'))\n",
    "BMI = weight/(height * height)\n",
    "print(BMI)"
   ]
  },
  {
   "cell_type": "code",
   "execution_count": 38,
   "metadata": {},
   "outputs": [
    {
     "name": "stdout",
     "output_type": "stream",
     "text": [
      "What you doing, dude?\n"
     ]
    }
   ],
   "source": [
    "# Experimenting with the IF, else and elif statements\n",
    "a = 1\n",
    "b = 1\n",
    "\n",
    "if a > b:\n",
    "    print(b)\n",
    "elif b > a:\n",
    "    print('Nothing for you')\n",
    "else:\n",
    "    print('What you doing, dude?')"
   ]
  },
  {
   "cell_type": "code",
   "execution_count": 46,
   "metadata": {},
   "outputs": [
    {
     "name": "stdout",
     "output_type": "stream",
     "text": [
      "What you doing, dude? A is greater than b mehn\n"
     ]
    }
   ],
   "source": [
    "a = 13\n",
    "b = 15\n",
    "c = 10\n",
    "\n",
    "if a > b:\n",
    "    if b > c:\n",
    "        print(\"a is greater than b and b is greater than c\")\n",
    "    else:\n",
    "        print(\"b is less than c\")\n",
    "elif b == a:\n",
    "    print('Nothing for you cos them two are equal')\n",
    "else:\n",
    "    print('What you doing, dude? A is greater than b mehn')"
   ]
  },
  {
   "cell_type": "code",
   "execution_count": 51,
   "metadata": {},
   "outputs": [
    {
     "name": "stdout",
     "output_type": "stream",
     "text": [
      "This is a BMI calculator\n",
      "Congrats you are healthy\n"
     ]
    }
   ],
   "source": [
    "# BMI Calculator\n",
    "\n",
    "print('This is a BMI calculator')\n",
    "weight = float(input('Enter your weight in Kg'))\n",
    "height = float(input('Enter your hight in meters'))\n",
    "BMI = weight/(height * height)\n",
    "\n",
    "# Conditions\n",
    "if(BMI > 0):\n",
    "    if (BMI <= 16):\n",
    "        print(\"You are overweight\")\n",
    "    elif(BMI <= 18.5):\n",
    "        print(\"You are underweight\")\n",
    "    elif(BMI <= 25):\n",
    "        print(\"Congrats you are healthy\")\n",
    "    elif(BMI<=30):\n",
    "        print(\"You are overweight\")\n",
    "    else:\n",
    "        print(\"You are very overweight\")\n",
    "else:\n",
    "    print(\"Enter valid details\")"
   ]
  },
  {
   "cell_type": "code",
   "execution_count": null,
   "metadata": {},
   "outputs": [],
   "source": []
  }
 ],
 "metadata": {
  "kernelspec": {
   "display_name": "Python 3",
   "language": "python",
   "name": "python3"
  },
  "language_info": {
   "codemirror_mode": {
    "name": "ipython",
    "version": 3
   },
   "file_extension": ".py",
   "mimetype": "text/x-python",
   "name": "python",
   "nbconvert_exporter": "python",
   "pygments_lexer": "ipython3",
   "version": "3.11.1 (v3.11.1:a7a450f84a, Dec  6 2022, 15:24:06) [Clang 13.0.0 (clang-1300.0.29.30)]"
  },
  "orig_nbformat": 4,
  "vscode": {
   "interpreter": {
    "hash": "aee8b7b246df8f9039afb4144a1f6fd8d2ca17a180786b69acc140d282b71a49"
   }
  }
 },
 "nbformat": 4,
 "nbformat_minor": 2
}
